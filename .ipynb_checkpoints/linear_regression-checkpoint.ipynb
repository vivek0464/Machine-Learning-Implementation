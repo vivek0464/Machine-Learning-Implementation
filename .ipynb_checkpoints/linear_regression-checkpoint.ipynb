{
 "cells": [
  {
   "cell_type": "code",
   "execution_count": 44,
   "metadata": {},
   "outputs": [
    {
     "name": "stdout",
     "output_type": "stream",
     "text": [
      "[[0.32394308]\n",
      " [1.4731251 ]]\n"
     ]
    }
   ],
   "source": [
    "import pandas as pd\n",
    "import numpy as np \n",
    "import matplotlib.pyplot as plt \n",
    "\n",
    "#linear regression on siraj raval dataset\n",
    "data=np.genfromtxt('/home/vivchahar/Workspaces/datasets/data.txt',delimiter=',')\n",
    "x=np.array(data[:100,0])\n",
    "m=x\n",
    "x.reshape(1,100)\n",
    "y=np.array(data[:100,1])\n",
    "n=y\n",
    "y=y.reshape(100,1)\n",
    "x0=np.ones(100)\n",
    "x0.reshape(1,100)\n",
    "x=np.array([x0,x])\n",
    "x=x.T\n",
    "b=np.zeros((2,1))\n",
    "\n",
    "\n",
    "alpha=0.0001\n",
    "def cost_function(x,y,b):\n",
    "    m=len(y)\n",
    "    j=np.sum((x.dot(b)-y)**2)/(2*m)\n",
    "    return j\n",
    " \n",
    "initial_cost=cost_function(x,y,b)\n",
    "\n",
    "def gradient_descent(x,y,b,alpha,iterations):\n",
    "    m=len(y)\n",
    "    cost_history=[0]*iterations   #to see how the cost changes with each iteration\n",
    "    for iteration in range(iterations):\n",
    "            h=x.dot(b)\n",
    "            loss=h-y\n",
    "            gradient=x.T.dot(loss)/m\n",
    "            b=b-alpha*gradient\n",
    "            cost=cost_function(x,y,b)\n",
    "            cost_history[iteration]=cost\n",
    "    return b,cost_history \n",
    "\n",
    "b,cost_history=gradient_descent(x,y,b,alpha,10000)\n",
    "print(b)\n"
   ]
  },
  {
   "cell_type": "code",
   "execution_count": 41,
   "metadata": {},
   "outputs": [
    {
     "data": {
      "image/png": "[encoded data removed]",
      "text/plain": [
       "<Figure size 432x288 with 1 Axes>"
      ]
     },
     "metadata": {},
     "output_type": "display_data"
    }
   ],
   "source": [
    "plt.scatter(m,n,color='r') \n",
    "r=[24,75]\n",
    "plt.plot(r,b[0]+b[1]*r,color='b')\n",
    "plt.show()\n"
   ]
  },
  {
   "cell_type": "code",
   "execution_count": null,
   "metadata": {},
   "outputs": [],
   "source": []
  }
 ],
 "metadata": {
  "kernelspec": {
   "display_name": "Python 3",
   "language": "python",
   "name": "python3"
  },
  "language_info": {
   "codemirror_mode": {
    "name": "ipython",
    "version": 3
   },
   "file_extension": ".py",
   "mimetype": "text/x-python",
   "name": "python",
   "nbconvert_exporter": "python",
   "pygments_lexer": "ipython3",
   "version": "3.5.2"
  }
 },
 "nbformat": 4,
 "nbformat_minor": 2
}
